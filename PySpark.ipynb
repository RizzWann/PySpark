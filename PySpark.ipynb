{
 "cells": [
  {
   "cell_type": "code",
   "execution_count": 2,
   "id": "1f881563",
   "metadata": {},
   "outputs": [],
   "source": [
    "#!pip install pyspark"
   ]
  },
  {
   "cell_type": "code",
   "execution_count": 2,
   "id": "bda3727c",
   "metadata": {},
   "outputs": [],
   "source": [
    "import pyspark\n",
    "from pyspark.sql import SparkSession\n",
    "spark = SparkSession.builder.appName(\"Practice\").getOrCreate()"
   ]
  },
  {
   "cell_type": "code",
   "execution_count": 4,
   "id": "3437c84a",
   "metadata": {},
   "outputs": [
    {
     "data": {
      "text/html": [
       "\n",
       "            <div>\n",
       "                <p><b>SparkSession - in-memory</b></p>\n",
       "                \n",
       "        <div>\n",
       "            <p><b>SparkContext</b></p>\n",
       "\n",
       "            <p><a href=\"http://RizzWann:4040\">Spark UI</a></p>\n",
       "\n",
       "            <dl>\n",
       "              <dt>Version</dt>\n",
       "                <dd><code>v3.3.2</code></dd>\n",
       "              <dt>Master</dt>\n",
       "                <dd><code>local[*]</code></dd>\n",
       "              <dt>AppName</dt>\n",
       "                <dd><code>Practice</code></dd>\n",
       "            </dl>\n",
       "        </div>\n",
       "        \n",
       "            </div>\n",
       "        "
      ],
      "text/plain": [
       "<pyspark.sql.session.SparkSession at 0x224dcf3b370>"
      ]
     },
     "execution_count": 4,
     "metadata": {},
     "output_type": "execute_result"
    }
   ],
   "source": [
    "spark"
   ]
  },
  {
   "cell_type": "markdown",
   "id": "bc856cc7",
   "metadata": {},
   "source": [
    "# Read Dataframe"
   ]
  },
  {
   "cell_type": "code",
   "execution_count": 21,
   "id": "7707115e",
   "metadata": {},
   "outputs": [
    {
     "name": "stdout",
     "output_type": "stream",
     "text": [
      "+----+--------+-----+\n",
      "|area|bedrooms|price|\n",
      "+----+--------+-----+\n",
      "|1056|       2|39.07|\n",
      "|2600|       4|120.0|\n",
      "|1440|       3| 62.0|\n",
      "|1521|       3| 75.0|\n",
      "|1200|       2| 51.0|\n",
      "|1170|       2| 38.0|\n",
      "|2732|       4|135.0|\n",
      "|3300|       4|155.0|\n",
      "|1310|       3| 50.0|\n",
      "|3700|       5|167.0|\n",
      "|1800|       3| 82.0|\n",
      "|2785|       4|140.0|\n",
      "|1000|       2| 38.0|\n",
      "|1100|       2| 40.0|\n",
      "|2250|       3|101.0|\n",
      "|1175|       2| 42.0|\n",
      "|1180|       3| 48.0|\n",
      "|1540|       3| 60.0|\n",
      "|2770|       3|102.0|\n",
      "| 800|       1| 32.0|\n",
      "+----+--------+-----+\n",
      "\n"
     ]
    }
   ],
   "source": [
    "df = spark.read.option('header','true').csv(\"E:/DS/Datasets/house_price.csv\",inferSchema=True)\n",
    "df.show()"
   ]
  },
  {
   "cell_type": "code",
   "execution_count": 22,
   "id": "6fdd062f",
   "metadata": {},
   "outputs": [
    {
     "data": {
      "text/plain": [
       "[Row(area=1056, bedrooms=2, price=39.07),\n",
       " Row(area=2600, bedrooms=4, price=120.0),\n",
       " Row(area=1440, bedrooms=3, price=62.0)]"
      ]
     },
     "execution_count": 22,
     "metadata": {},
     "output_type": "execute_result"
    }
   ],
   "source": [
    "df.head(3)"
   ]
  },
  {
   "cell_type": "code",
   "execution_count": 23,
   "id": "3a70cbb0",
   "metadata": {},
   "outputs": [
    {
     "name": "stdout",
     "output_type": "stream",
     "text": [
      "root\n",
      " |-- area: integer (nullable = true)\n",
      " |-- bedrooms: integer (nullable = true)\n",
      " |-- price: double (nullable = true)\n",
      "\n"
     ]
    }
   ],
   "source": [
    "df.printSchema()"
   ]
  },
  {
   "cell_type": "code",
   "execution_count": 24,
   "id": "b6959257",
   "metadata": {},
   "outputs": [],
   "source": [
    "df = spark.read.csv(\"E:/DS/Datasets/house_price.csv\",inferSchema=True,header=True)\n"
   ]
  },
  {
   "cell_type": "code",
   "execution_count": 25,
   "id": "31071ef8",
   "metadata": {},
   "outputs": [
    {
     "name": "stdout",
     "output_type": "stream",
     "text": [
      "+----+--------+-----+\n",
      "|area|bedrooms|price|\n",
      "+----+--------+-----+\n",
      "|1056|       2|39.07|\n",
      "|2600|       4|120.0|\n",
      "|1440|       3| 62.0|\n",
      "|1521|       3| 75.0|\n",
      "|1200|       2| 51.0|\n",
      "+----+--------+-----+\n",
      "only showing top 5 rows\n",
      "\n"
     ]
    }
   ],
   "source": [
    "df.show(5)"
   ]
  },
  {
   "cell_type": "code",
   "execution_count": 29,
   "id": "57fcd490",
   "metadata": {},
   "outputs": [
    {
     "data": {
      "text/plain": [
       "['area', 'bedrooms', 'price']"
      ]
     },
     "execution_count": 29,
     "metadata": {},
     "output_type": "execute_result"
    }
   ],
   "source": [
    "df.columns"
   ]
  },
  {
   "cell_type": "code",
   "execution_count": 30,
   "id": "9888072a",
   "metadata": {},
   "outputs": [
    {
     "data": {
      "text/plain": [
       "[Row(area=1056, bedrooms=2, price=39.07),\n",
       " Row(area=2600, bedrooms=4, price=120.0),\n",
       " Row(area=1440, bedrooms=3, price=62.0)]"
      ]
     },
     "execution_count": 30,
     "metadata": {},
     "output_type": "execute_result"
    }
   ],
   "source": [
    "df.head(3)"
   ]
  },
  {
   "cell_type": "code",
   "execution_count": 36,
   "id": "7c6cac78",
   "metadata": {},
   "outputs": [
    {
     "name": "stdout",
     "output_type": "stream",
     "text": [
      "+----+--------+\n",
      "|area|bedrooms|\n",
      "+----+--------+\n",
      "|1056|       2|\n",
      "|2600|       4|\n",
      "|1440|       3|\n",
      "+----+--------+\n",
      "only showing top 3 rows\n",
      "\n"
     ]
    }
   ],
   "source": [
    "df.select(['area','bedrooms']).show(3)"
   ]
  },
  {
   "cell_type": "code",
   "execution_count": 37,
   "id": "8dba0236",
   "metadata": {},
   "outputs": [
    {
     "data": {
      "text/plain": [
       "[('area', 'int'), ('bedrooms', 'int'), ('price', 'double')]"
      ]
     },
     "execution_count": 37,
     "metadata": {},
     "output_type": "execute_result"
    }
   ],
   "source": [
    "df.dtypes"
   ]
  },
  {
   "cell_type": "code",
   "execution_count": 38,
   "id": "8365870f",
   "metadata": {},
   "outputs": [
    {
     "name": "stdout",
     "output_type": "stream",
     "text": [
      "+-------+-----------------+------------------+------------------+\n",
      "|summary|             area|          bedrooms|             price|\n",
      "+-------+-----------------+------------------+------------------+\n",
      "|  count|               20|                20|                20|\n",
      "|   mean|          1821.45|               2.9|           78.8535|\n",
      "| stddev|864.6157938949713|0.9679060415469871|43.761901030943626|\n",
      "|    min|              800|                 1|              32.0|\n",
      "|    max|             3700|                 5|             167.0|\n",
      "+-------+-----------------+------------------+------------------+\n",
      "\n"
     ]
    }
   ],
   "source": [
    "df.describe().show()"
   ]
  },
  {
   "cell_type": "code",
   "execution_count": 39,
   "id": "6ae84ffa",
   "metadata": {},
   "outputs": [],
   "source": [
    "import math"
   ]
  },
  {
   "cell_type": "code",
   "execution_count": 57,
   "id": "7d4b4af4",
   "metadata": {},
   "outputs": [],
   "source": [
    "# Add col\n",
    "df = df.withColumn('side',pyspark.sql.functions.sqrt(df['area']))"
   ]
  },
  {
   "cell_type": "code",
   "execution_count": 58,
   "id": "ca8c2cf2",
   "metadata": {},
   "outputs": [
    {
     "name": "stdout",
     "output_type": "stream",
     "text": [
      "+----+--------+-----+-----------------+\n",
      "|Area|bedrooms|price|             side|\n",
      "+----+--------+-----+-----------------+\n",
      "|1056|       2|39.07|32.49615361854384|\n",
      "|2600|       4|120.0|50.99019513592785|\n",
      "|1440|       3| 62.0|37.94733192202055|\n",
      "+----+--------+-----+-----------------+\n",
      "only showing top 3 rows\n",
      "\n"
     ]
    }
   ],
   "source": [
    "\n",
    "df.show(3)"
   ]
  },
  {
   "cell_type": "code",
   "execution_count": 59,
   "id": "a52da198",
   "metadata": {},
   "outputs": [
    {
     "name": "stdout",
     "output_type": "stream",
     "text": [
      "+----+--------+-----+\n",
      "|Area|bedrooms|price|\n",
      "+----+--------+-----+\n",
      "|1056|       2|39.07|\n",
      "|2600|       4|120.0|\n",
      "|1440|       3| 62.0|\n",
      "+----+--------+-----+\n",
      "only showing top 3 rows\n",
      "\n"
     ]
    }
   ],
   "source": [
    "df = df.drop('side')\n",
    "df.show(3)"
   ]
  },
  {
   "cell_type": "code",
   "execution_count": 60,
   "id": "8d53cf21",
   "metadata": {},
   "outputs": [
    {
     "name": "stdout",
     "output_type": "stream",
     "text": [
      "+----+--------+-----+\n",
      "|Area|bedrooms|price|\n",
      "+----+--------+-----+\n",
      "|1056|       2|39.07|\n",
      "|2600|       4|120.0|\n",
      "|1440|       3| 62.0|\n",
      "+----+--------+-----+\n",
      "only showing top 3 rows\n",
      "\n"
     ]
    }
   ],
   "source": [
    "df = df.withColumnRenamed('area','Area')\n",
    "df.show(3)"
   ]
  },
  {
   "cell_type": "code",
   "execution_count": 66,
   "id": "b3fd1070",
   "metadata": {},
   "outputs": [
    {
     "name": "stdout",
     "output_type": "stream",
     "text": [
      "+----+--------+-----+\n",
      "|Area|bedrooms|price|\n",
      "+----+--------+-----+\n",
      "|1056|       2|39.07|\n",
      "|2600|       4|120.0|\n",
      "|1440|       3| 62.0|\n",
      "|1521|       3| 75.0|\n",
      "|1200|       2| 51.0|\n",
      "|1170|       2| 38.0|\n",
      "|2732|       4|135.0|\n",
      "|3300|       4|155.0|\n",
      "|1310|       3| 50.0|\n",
      "|3700|       5|167.0|\n",
      "|1800|       3| 82.0|\n",
      "|2785|       4|140.0|\n",
      "|1000|       2| 38.0|\n",
      "|1100|       2| 40.0|\n",
      "|2250|       3|101.0|\n",
      "|1175|       2| 42.0|\n",
      "|1180|       3| 48.0|\n",
      "|1540|       3| 60.0|\n",
      "|2770|       3|102.0|\n",
      "| 800|       1| 32.0|\n",
      "+----+--------+-----+\n",
      "\n"
     ]
    }
   ],
   "source": [
    "df.dropna(thresh=2).show()"
   ]
  },
  {
   "cell_type": "code",
   "execution_count": 67,
   "id": "0592dbde",
   "metadata": {},
   "outputs": [
    {
     "name": "stdout",
     "output_type": "stream",
     "text": [
      "+----+--------+-----+\n",
      "|Area|bedrooms|price|\n",
      "+----+--------+-----+\n",
      "|1056|       2|39.07|\n",
      "|2600|       4|120.0|\n",
      "|1440|       3| 62.0|\n",
      "|1521|       3| 75.0|\n",
      "|1200|       2| 51.0|\n",
      "|1170|       2| 38.0|\n",
      "|2732|       4|135.0|\n",
      "|3300|       4|155.0|\n",
      "|1310|       3| 50.0|\n",
      "|3700|       5|167.0|\n",
      "|1800|       3| 82.0|\n",
      "|2785|       4|140.0|\n",
      "|1000|       2| 38.0|\n",
      "|1100|       2| 40.0|\n",
      "|2250|       3|101.0|\n",
      "|1175|       2| 42.0|\n",
      "|1180|       3| 48.0|\n",
      "|1540|       3| 60.0|\n",
      "|2770|       3|102.0|\n",
      "| 800|       1| 32.0|\n",
      "+----+--------+-----+\n",
      "\n"
     ]
    }
   ],
   "source": [
    "df.na.fill('nan').show()"
   ]
  },
  {
   "cell_type": "markdown",
   "id": "d1b491ef",
   "metadata": {},
   "source": [
    "##### Fill missing values"
   ]
  },
  {
   "cell_type": "code",
   "execution_count": 71,
   "id": "3a2f23d2",
   "metadata": {},
   "outputs": [],
   "source": [
    "from pyspark.ml.feature import Imputer\n",
    "imputer = Imputer(\n",
    "      inputCols=['Area','bedrooms','price'],\n",
    "       outputCols=[\"{}_imputed\".format(c) for c in ['Area','bedrooms','price']]\n",
    ").setStrategy('mean')"
   ]
  },
  {
   "cell_type": "code",
   "execution_count": 72,
   "id": "8cb33499",
   "metadata": {},
   "outputs": [
    {
     "name": "stdout",
     "output_type": "stream",
     "text": [
      "+----+--------+-----+------------+----------------+-------------+\n",
      "|Area|bedrooms|price|Area_imputed|bedrooms_imputed|price_imputed|\n",
      "+----+--------+-----+------------+----------------+-------------+\n",
      "|1056|       2|39.07|        1056|               2|        39.07|\n",
      "|2600|       4|120.0|        2600|               4|        120.0|\n",
      "|1440|       3| 62.0|        1440|               3|         62.0|\n",
      "|1521|       3| 75.0|        1521|               3|         75.0|\n",
      "|1200|       2| 51.0|        1200|               2|         51.0|\n",
      "|1170|       2| 38.0|        1170|               2|         38.0|\n",
      "|2732|       4|135.0|        2732|               4|        135.0|\n",
      "|3300|       4|155.0|        3300|               4|        155.0|\n",
      "|1310|       3| 50.0|        1310|               3|         50.0|\n",
      "|3700|       5|167.0|        3700|               5|        167.0|\n",
      "|1800|       3| 82.0|        1800|               3|         82.0|\n",
      "|2785|       4|140.0|        2785|               4|        140.0|\n",
      "|1000|       2| 38.0|        1000|               2|         38.0|\n",
      "|1100|       2| 40.0|        1100|               2|         40.0|\n",
      "|2250|       3|101.0|        2250|               3|        101.0|\n",
      "|1175|       2| 42.0|        1175|               2|         42.0|\n",
      "|1180|       3| 48.0|        1180|               3|         48.0|\n",
      "|1540|       3| 60.0|        1540|               3|         60.0|\n",
      "|2770|       3|102.0|        2770|               3|        102.0|\n",
      "| 800|       1| 32.0|         800|               1|         32.0|\n",
      "+----+--------+-----+------------+----------------+-------------+\n",
      "\n"
     ]
    }
   ],
   "source": [
    "imputer.fit(df).transform(df).show()"
   ]
  },
  {
   "cell_type": "markdown",
   "id": "66639966",
   "metadata": {},
   "source": [
    "##### Filter operation"
   ]
  },
  {
   "cell_type": "code",
   "execution_count": 73,
   "id": "ef189136",
   "metadata": {},
   "outputs": [],
   "source": [
    "import pyspark\n",
    "from pyspark.sql import SparkSession\n",
    "spark = SparkSession.builder.appName(\"Practice\").getOrCreate()"
   ]
  },
  {
   "cell_type": "code",
   "execution_count": 74,
   "id": "d5543afd",
   "metadata": {},
   "outputs": [],
   "source": [
    "df = spark.read.csv(\"E:/DS/Datasets/house_price.csv\",inferSchema=True,header=True)"
   ]
  },
  {
   "cell_type": "code",
   "execution_count": 79,
   "id": "012a8afb",
   "metadata": {},
   "outputs": [
    {
     "name": "stdout",
     "output_type": "stream",
     "text": [
      "+-----+\n",
      "|price|\n",
      "+-----+\n",
      "|39.07|\n",
      "| 62.0|\n",
      "| 51.0|\n",
      "| 38.0|\n",
      "| 50.0|\n",
      "| 38.0|\n",
      "| 40.0|\n",
      "| 42.0|\n",
      "| 48.0|\n",
      "| 32.0|\n",
      "+-----+\n",
      "\n"
     ]
    }
   ],
   "source": [
    "df.filter('area<=1500').select('price').show()"
   ]
  },
  {
   "cell_type": "code",
   "execution_count": 85,
   "id": "ada6018e",
   "metadata": {},
   "outputs": [
    {
     "name": "stdout",
     "output_type": "stream",
     "text": [
      "+----+--------+-----+\n",
      "|area|bedrooms|price|\n",
      "+----+--------+-----+\n",
      "|1056|       2|39.07|\n",
      "|1170|       2| 38.0|\n",
      "|1000|       2| 38.0|\n",
      "|1100|       2| 40.0|\n",
      "| 800|       1| 32.0|\n",
      "+----+--------+-----+\n",
      "\n"
     ]
    }
   ],
   "source": [
    "df.filter(\n",
    "    (df['area']<=1500) &\n",
    "    (df['price']<=40)).show()"
   ]
  },
  {
   "cell_type": "code",
   "execution_count": 86,
   "id": "901eea2b",
   "metadata": {},
   "outputs": [
    {
     "name": "stdout",
     "output_type": "stream",
     "text": [
      "+----+--------+-----+\n",
      "|area|bedrooms|price|\n",
      "+----+--------+-----+\n",
      "|2600|       4|120.0|\n",
      "|1440|       3| 62.0|\n",
      "|1521|       3| 75.0|\n",
      "|1200|       2| 51.0|\n",
      "|2732|       4|135.0|\n",
      "|3300|       4|155.0|\n",
      "|1310|       3| 50.0|\n",
      "|3700|       5|167.0|\n",
      "|1800|       3| 82.0|\n",
      "|2785|       4|140.0|\n",
      "|2250|       3|101.0|\n",
      "|1175|       2| 42.0|\n",
      "|1180|       3| 48.0|\n",
      "|1540|       3| 60.0|\n",
      "|2770|       3|102.0|\n",
      "+----+--------+-----+\n",
      "\n"
     ]
    }
   ],
   "source": [
    "df.filter(\n",
    "    ~((df['area']<=1500) &\n",
    "    (df['price']<=40))).show()"
   ]
  },
  {
   "cell_type": "markdown",
   "id": "94b26063",
   "metadata": {},
   "source": [
    "##### Group by and Aggregate"
   ]
  },
  {
   "cell_type": "code",
   "execution_count": 90,
   "id": "5fc5282d",
   "metadata": {},
   "outputs": [
    {
     "name": "stdout",
     "output_type": "stream",
     "text": [
      "+--------+---------+-------------+----------+\n",
      "|bedrooms|sum(area)|sum(bedrooms)|sum(price)|\n",
      "+--------+---------+-------------+----------+\n",
      "|       1|      800|            1|      32.0|\n",
      "|       3|    13811|           24|     580.0|\n",
      "|       5|     3700|            5|     167.0|\n",
      "|       4|    11417|           16|     550.0|\n",
      "|       2|     6701|           12|    248.07|\n",
      "+--------+---------+-------------+----------+\n",
      "\n"
     ]
    }
   ],
   "source": [
    "df.groupBy('bedrooms').sum().show()"
   ]
  },
  {
   "cell_type": "code",
   "execution_count": 91,
   "id": "978417d4",
   "metadata": {},
   "outputs": [
    {
     "name": "stdout",
     "output_type": "stream",
     "text": [
      "+--------+------------------+-------------+----------+\n",
      "|bedrooms|         avg(area)|avg(bedrooms)|avg(price)|\n",
      "+--------+------------------+-------------+----------+\n",
      "|       1|             800.0|          1.0|      32.0|\n",
      "|       3|          1726.375|          3.0|      72.5|\n",
      "|       5|            3700.0|          5.0|     167.0|\n",
      "|       4|           2854.25|          4.0|     137.5|\n",
      "|       2|1116.8333333333333|          2.0|    41.345|\n",
      "+--------+------------------+-------------+----------+\n",
      "\n"
     ]
    }
   ],
   "source": [
    "df.groupBy('bedrooms').mean().show()"
   ]
  },
  {
   "cell_type": "code",
   "execution_count": 92,
   "id": "092082d8",
   "metadata": {},
   "outputs": [
    {
     "name": "stdout",
     "output_type": "stream",
     "text": [
      "+--------+-----+\n",
      "|bedrooms|count|\n",
      "+--------+-----+\n",
      "|       1|    1|\n",
      "|       3|    8|\n",
      "|       5|    1|\n",
      "|       4|    4|\n",
      "|       2|    6|\n",
      "+--------+-----+\n",
      "\n"
     ]
    }
   ],
   "source": [
    "df.groupBy('bedrooms').count().show()"
   ]
  },
  {
   "cell_type": "code",
   "execution_count": 97,
   "id": "867d5841",
   "metadata": {},
   "outputs": [
    {
     "name": "stdout",
     "output_type": "stream",
     "text": [
      "+----------+\n",
      "|sum(price)|\n",
      "+----------+\n",
      "|   1577.07|\n",
      "+----------+\n",
      "\n"
     ]
    }
   ],
   "source": [
    "df.agg({'price':'sum'}).show()"
   ]
  },
  {
   "cell_type": "markdown",
   "id": "bd7d74f9",
   "metadata": {},
   "source": [
    "##### spark MLib"
   ]
  },
  {
   "cell_type": "code",
   "execution_count": 98,
   "id": "63cffc2f",
   "metadata": {},
   "outputs": [],
   "source": [
    "import pyspark\n",
    "from pyspark.sql import SparkSession\n",
    "spark = SparkSession.builder.appName(\"Practice\").getOrCreate()"
   ]
  },
  {
   "cell_type": "code",
   "execution_count": 99,
   "id": "8137f55c",
   "metadata": {},
   "outputs": [],
   "source": [
    "df = spark.read.csv(\"E:/DS/Datasets/house_price.csv\",inferSchema=True,header=True)"
   ]
  },
  {
   "cell_type": "code",
   "execution_count": 100,
   "id": "d04264e6",
   "metadata": {},
   "outputs": [
    {
     "data": {
      "text/plain": [
       "['area', 'bedrooms', 'price']"
      ]
     },
     "execution_count": 100,
     "metadata": {},
     "output_type": "execute_result"
    }
   ],
   "source": [
    "df.columns"
   ]
  },
  {
   "cell_type": "code",
   "execution_count": 103,
   "id": "8e712caf",
   "metadata": {},
   "outputs": [],
   "source": [
    "from pyspark.ml.feature import VectorAssembler\n",
    "assembler = VectorAssembler(inputCols=['area', 'bedrooms'],outputCol='X') "
   ]
  },
  {
   "cell_type": "code",
   "execution_count": 105,
   "id": "944a70bb",
   "metadata": {},
   "outputs": [
    {
     "name": "stdout",
     "output_type": "stream",
     "text": [
      "+----+--------+-----+------------+\n",
      "|area|bedrooms|price|           X|\n",
      "+----+--------+-----+------------+\n",
      "|1056|       2|39.07|[1056.0,2.0]|\n",
      "|2600|       4|120.0|[2600.0,4.0]|\n",
      "|1440|       3| 62.0|[1440.0,3.0]|\n",
      "+----+--------+-----+------------+\n",
      "only showing top 3 rows\n",
      "\n"
     ]
    }
   ],
   "source": [
    "out = assembler.transform(df)\n",
    "out.show(3)"
   ]
  },
  {
   "cell_type": "code",
   "execution_count": 106,
   "id": "d058afb5",
   "metadata": {},
   "outputs": [
    {
     "name": "stdout",
     "output_type": "stream",
     "text": [
      "+------------+-----+\n",
      "|           X|price|\n",
      "+------------+-----+\n",
      "|[1056.0,2.0]|39.07|\n",
      "|[2600.0,4.0]|120.0|\n",
      "|[1440.0,3.0]| 62.0|\n",
      "+------------+-----+\n",
      "only showing top 3 rows\n",
      "\n"
     ]
    }
   ],
   "source": [
    "train = out.select(['X','price'])\n",
    "train.show(3)"
   ]
  },
  {
   "cell_type": "code",
   "execution_count": 107,
   "id": "6710587f",
   "metadata": {},
   "outputs": [],
   "source": [
    "from pyspark.ml.regression import LinearRegression\n",
    "train_data,test_data=train.randomSplit([0.75,0.25])"
   ]
  },
  {
   "cell_type": "code",
   "execution_count": 108,
   "id": "03f10e17",
   "metadata": {},
   "outputs": [],
   "source": [
    "regressor = LinearRegression(featuresCol='X',labelCol='price')"
   ]
  },
  {
   "cell_type": "code",
   "execution_count": 109,
   "id": "6f5e7488",
   "metadata": {},
   "outputs": [],
   "source": [
    "regressor = regressor.fit(train_data)"
   ]
  },
  {
   "cell_type": "code",
   "execution_count": 111,
   "id": "b8ffa4e2",
   "metadata": {},
   "outputs": [
    {
     "data": {
      "text/plain": [
       "DenseVector([0.0522, -0.345])"
      ]
     },
     "execution_count": 111,
     "metadata": {},
     "output_type": "execute_result"
    }
   ],
   "source": [
    "regressor.coefficients"
   ]
  },
  {
   "cell_type": "code",
   "execution_count": 113,
   "id": "7e1bc057",
   "metadata": {},
   "outputs": [
    {
     "data": {
      "text/plain": [
       "-13.901241631776424"
      ]
     },
     "execution_count": 113,
     "metadata": {},
     "output_type": "execute_result"
    }
   ],
   "source": [
    "regressor.intercept"
   ]
  },
  {
   "cell_type": "code",
   "execution_count": 115,
   "id": "4f6f6450",
   "metadata": {},
   "outputs": [
    {
     "name": "stdout",
     "output_type": "stream",
     "text": [
      "+------------+-----+-----------------+\n",
      "|           X|price|       prediction|\n",
      "+------------+-----+-----------------+\n",
      "|[1056.0,2.0]|39.07|40.51268928765786|\n",
      "|[1521.0,3.0]| 75.0| 64.4322031047365|\n",
      "|[1540.0,3.0]| 60.0|65.42365677473859|\n",
      "|[2770.0,3.0]|102.0|129.6072364643472|\n",
      "|[3300.0,4.0]|155.0|156.9185654682751|\n",
      "+------------+-----+-----------------+\n",
      "\n"
     ]
    }
   ],
   "source": [
    "pred = regressor.evaluate(test_data)\n",
    "pred.predictions.show()"
   ]
  },
  {
   "cell_type": "code",
   "execution_count": 121,
   "id": "5dcc0b45",
   "metadata": {},
   "outputs": [
    {
     "name": "stdout",
     "output_type": "stream",
     "text": [
      "3.3.2\n"
     ]
    }
   ],
   "source": [
    "print(spark.version)"
   ]
  },
  {
   "cell_type": "code",
   "execution_count": null,
   "id": "9c616ac2",
   "metadata": {},
   "outputs": [],
   "source": []
  }
 ],
 "metadata": {
  "kernelspec": {
   "display_name": "Python 3 (ipykernel)",
   "language": "python",
   "name": "python3"
  },
  "language_info": {
   "codemirror_mode": {
    "name": "ipython",
    "version": 3
   },
   "file_extension": ".py",
   "mimetype": "text/x-python",
   "name": "python",
   "nbconvert_exporter": "python",
   "pygments_lexer": "ipython3",
   "version": "3.9.7"
  },
  "varInspector": {
   "cols": {
    "lenName": 16,
    "lenType": 16,
    "lenVar": 40
   },
   "kernels_config": {
    "python": {
     "delete_cmd_postfix": "",
     "delete_cmd_prefix": "del ",
     "library": "var_list.py",
     "varRefreshCmd": "print(var_dic_list())"
    },
    "r": {
     "delete_cmd_postfix": ") ",
     "delete_cmd_prefix": "rm(",
     "library": "var_list.r",
     "varRefreshCmd": "cat(var_dic_list()) "
    }
   },
   "types_to_exclude": [
    "module",
    "function",
    "builtin_function_or_method",
    "instance",
    "_Feature"
   ],
   "window_display": false
  }
 },
 "nbformat": 4,
 "nbformat_minor": 5
}
